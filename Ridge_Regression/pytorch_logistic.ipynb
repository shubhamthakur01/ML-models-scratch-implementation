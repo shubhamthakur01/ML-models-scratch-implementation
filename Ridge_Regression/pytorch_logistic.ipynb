{
 "cells": [
  {
   "cell_type": "code",
   "execution_count": 32,
   "id": "4a3d8872",
   "metadata": {
    "ExecuteTime": {
     "end_time": "2022-02-08T04:00:51.845340Z",
     "start_time": "2022-02-08T04:00:51.833250Z"
    }
   },
   "outputs": [],
   "source": [
    "%matplotlib inline\n",
    "import pandas as pd\n",
    "import numpy as np\n",
    "import torch\n",
    "import torch.autograd as autograd\n",
    "import torch.nn as nn\n",
    "import torch.nn.functional as F \n",
    "import torch.optim as optim\n",
    "from torch.utils.data import Dataset, DataLoader\n",
    "from sklearn.metrics import roc_auc_score"
   ]
  },
  {
   "cell_type": "markdown",
   "id": "68d5c9ec",
   "metadata": {},
   "source": [
    "**Reading the Dataset**"
   ]
  },
  {
   "cell_type": "code",
   "execution_count": 33,
   "id": "b2290b7c",
   "metadata": {
    "ExecuteTime": {
     "end_time": "2022-02-08T04:00:52.236146Z",
     "start_time": "2022-02-08T04:00:52.152383Z"
    }
   },
   "outputs": [],
   "source": [
    "data = pd.read_csv('data/default-credit-card-clients.csv')"
   ]
  },
  {
   "cell_type": "code",
   "execution_count": 34,
   "id": "a867baa5",
   "metadata": {
    "ExecuteTime": {
     "end_time": "2022-02-08T04:00:53.411763Z",
     "start_time": "2022-02-08T04:00:53.388870Z"
    }
   },
   "outputs": [
    {
     "data": {
      "text/html": [
       "<div>\n",
       "<style scoped>\n",
       "    .dataframe tbody tr th:only-of-type {\n",
       "        vertical-align: middle;\n",
       "    }\n",
       "\n",
       "    .dataframe tbody tr th {\n",
       "        vertical-align: top;\n",
       "    }\n",
       "\n",
       "    .dataframe thead th {\n",
       "        text-align: right;\n",
       "    }\n",
       "</style>\n",
       "<table border=\"1\" class=\"dataframe\">\n",
       "  <thead>\n",
       "    <tr style=\"text-align: right;\">\n",
       "      <th></th>\n",
       "      <th>ID</th>\n",
       "      <th>LIMIT_BAL</th>\n",
       "      <th>SEX</th>\n",
       "      <th>EDUCATION</th>\n",
       "      <th>MARRIAGE</th>\n",
       "      <th>AGE</th>\n",
       "      <th>PAY_0</th>\n",
       "      <th>PAY_2</th>\n",
       "      <th>PAY_3</th>\n",
       "      <th>PAY_4</th>\n",
       "      <th>...</th>\n",
       "      <th>BILL_AMT4</th>\n",
       "      <th>BILL_AMT5</th>\n",
       "      <th>BILL_AMT6</th>\n",
       "      <th>PAY_AMT1</th>\n",
       "      <th>PAY_AMT2</th>\n",
       "      <th>PAY_AMT3</th>\n",
       "      <th>PAY_AMT4</th>\n",
       "      <th>PAY_AMT5</th>\n",
       "      <th>PAY_AMT6</th>\n",
       "      <th>default_payment</th>\n",
       "    </tr>\n",
       "  </thead>\n",
       "  <tbody>\n",
       "    <tr>\n",
       "      <th>0</th>\n",
       "      <td>1</td>\n",
       "      <td>20000</td>\n",
       "      <td>2</td>\n",
       "      <td>2</td>\n",
       "      <td>1</td>\n",
       "      <td>24</td>\n",
       "      <td>2</td>\n",
       "      <td>2</td>\n",
       "      <td>-1</td>\n",
       "      <td>-1</td>\n",
       "      <td>...</td>\n",
       "      <td>0</td>\n",
       "      <td>0</td>\n",
       "      <td>0</td>\n",
       "      <td>0</td>\n",
       "      <td>689</td>\n",
       "      <td>0</td>\n",
       "      <td>0</td>\n",
       "      <td>0</td>\n",
       "      <td>0</td>\n",
       "      <td>1</td>\n",
       "    </tr>\n",
       "    <tr>\n",
       "      <th>1</th>\n",
       "      <td>2</td>\n",
       "      <td>120000</td>\n",
       "      <td>2</td>\n",
       "      <td>2</td>\n",
       "      <td>2</td>\n",
       "      <td>26</td>\n",
       "      <td>-1</td>\n",
       "      <td>2</td>\n",
       "      <td>0</td>\n",
       "      <td>0</td>\n",
       "      <td>...</td>\n",
       "      <td>3272</td>\n",
       "      <td>3455</td>\n",
       "      <td>3261</td>\n",
       "      <td>0</td>\n",
       "      <td>1000</td>\n",
       "      <td>1000</td>\n",
       "      <td>1000</td>\n",
       "      <td>0</td>\n",
       "      <td>2000</td>\n",
       "      <td>1</td>\n",
       "    </tr>\n",
       "    <tr>\n",
       "      <th>2</th>\n",
       "      <td>3</td>\n",
       "      <td>90000</td>\n",
       "      <td>2</td>\n",
       "      <td>2</td>\n",
       "      <td>2</td>\n",
       "      <td>34</td>\n",
       "      <td>0</td>\n",
       "      <td>0</td>\n",
       "      <td>0</td>\n",
       "      <td>0</td>\n",
       "      <td>...</td>\n",
       "      <td>14331</td>\n",
       "      <td>14948</td>\n",
       "      <td>15549</td>\n",
       "      <td>1518</td>\n",
       "      <td>1500</td>\n",
       "      <td>1000</td>\n",
       "      <td>1000</td>\n",
       "      <td>1000</td>\n",
       "      <td>5000</td>\n",
       "      <td>0</td>\n",
       "    </tr>\n",
       "    <tr>\n",
       "      <th>3</th>\n",
       "      <td>4</td>\n",
       "      <td>50000</td>\n",
       "      <td>2</td>\n",
       "      <td>2</td>\n",
       "      <td>1</td>\n",
       "      <td>37</td>\n",
       "      <td>0</td>\n",
       "      <td>0</td>\n",
       "      <td>0</td>\n",
       "      <td>0</td>\n",
       "      <td>...</td>\n",
       "      <td>28314</td>\n",
       "      <td>28959</td>\n",
       "      <td>29547</td>\n",
       "      <td>2000</td>\n",
       "      <td>2019</td>\n",
       "      <td>1200</td>\n",
       "      <td>1100</td>\n",
       "      <td>1069</td>\n",
       "      <td>1000</td>\n",
       "      <td>0</td>\n",
       "    </tr>\n",
       "    <tr>\n",
       "      <th>4</th>\n",
       "      <td>5</td>\n",
       "      <td>50000</td>\n",
       "      <td>1</td>\n",
       "      <td>2</td>\n",
       "      <td>1</td>\n",
       "      <td>57</td>\n",
       "      <td>-1</td>\n",
       "      <td>0</td>\n",
       "      <td>-1</td>\n",
       "      <td>0</td>\n",
       "      <td>...</td>\n",
       "      <td>20940</td>\n",
       "      <td>19146</td>\n",
       "      <td>19131</td>\n",
       "      <td>2000</td>\n",
       "      <td>36681</td>\n",
       "      <td>10000</td>\n",
       "      <td>9000</td>\n",
       "      <td>689</td>\n",
       "      <td>679</td>\n",
       "      <td>0</td>\n",
       "    </tr>\n",
       "  </tbody>\n",
       "</table>\n",
       "<p>5 rows × 25 columns</p>\n",
       "</div>"
      ],
      "text/plain": [
       "   ID  LIMIT_BAL  SEX  EDUCATION  MARRIAGE  AGE  PAY_0  PAY_2  PAY_3  PAY_4  \\\n",
       "0   1      20000    2          2         1   24      2      2     -1     -1   \n",
       "1   2     120000    2          2         2   26     -1      2      0      0   \n",
       "2   3      90000    2          2         2   34      0      0      0      0   \n",
       "3   4      50000    2          2         1   37      0      0      0      0   \n",
       "4   5      50000    1          2         1   57     -1      0     -1      0   \n",
       "\n",
       "   ...  BILL_AMT4  BILL_AMT5  BILL_AMT6  PAY_AMT1  PAY_AMT2  PAY_AMT3  \\\n",
       "0  ...          0          0          0         0       689         0   \n",
       "1  ...       3272       3455       3261         0      1000      1000   \n",
       "2  ...      14331      14948      15549      1518      1500      1000   \n",
       "3  ...      28314      28959      29547      2000      2019      1200   \n",
       "4  ...      20940      19146      19131      2000     36681     10000   \n",
       "\n",
       "   PAY_AMT4  PAY_AMT5  PAY_AMT6  default_payment  \n",
       "0         0         0         0                1  \n",
       "1      1000         0      2000                1  \n",
       "2      1000      1000      5000                0  \n",
       "3      1100      1069      1000                0  \n",
       "4      9000       689       679                0  \n",
       "\n",
       "[5 rows x 25 columns]"
      ]
     },
     "execution_count": 34,
     "metadata": {},
     "output_type": "execute_result"
    }
   ],
   "source": [
    "data.head(5)"
   ]
  },
  {
   "cell_type": "code",
   "execution_count": 35,
   "id": "0e98b991",
   "metadata": {
    "ExecuteTime": {
     "end_time": "2022-02-08T04:00:53.685249Z",
     "start_time": "2022-02-08T04:00:53.674903Z"
    }
   },
   "outputs": [],
   "source": [
    "data = data.drop('ID', axis = 1)"
   ]
  },
  {
   "cell_type": "code",
   "execution_count": 36,
   "id": "dad367c8",
   "metadata": {
    "ExecuteTime": {
     "end_time": "2022-02-08T04:00:54.829745Z",
     "start_time": "2022-02-08T04:00:54.805428Z"
    }
   },
   "outputs": [
    {
     "data": {
      "text/html": [
       "<div>\n",
       "<style scoped>\n",
       "    .dataframe tbody tr th:only-of-type {\n",
       "        vertical-align: middle;\n",
       "    }\n",
       "\n",
       "    .dataframe tbody tr th {\n",
       "        vertical-align: top;\n",
       "    }\n",
       "\n",
       "    .dataframe thead th {\n",
       "        text-align: right;\n",
       "    }\n",
       "</style>\n",
       "<table border=\"1\" class=\"dataframe\">\n",
       "  <thead>\n",
       "    <tr style=\"text-align: right;\">\n",
       "      <th></th>\n",
       "      <th>LIMIT_BAL</th>\n",
       "      <th>SEX</th>\n",
       "      <th>EDUCATION</th>\n",
       "      <th>MARRIAGE</th>\n",
       "      <th>AGE</th>\n",
       "      <th>PAY_0</th>\n",
       "      <th>PAY_2</th>\n",
       "      <th>PAY_3</th>\n",
       "      <th>PAY_4</th>\n",
       "      <th>PAY_5</th>\n",
       "      <th>...</th>\n",
       "      <th>BILL_AMT4</th>\n",
       "      <th>BILL_AMT5</th>\n",
       "      <th>BILL_AMT6</th>\n",
       "      <th>PAY_AMT1</th>\n",
       "      <th>PAY_AMT2</th>\n",
       "      <th>PAY_AMT3</th>\n",
       "      <th>PAY_AMT4</th>\n",
       "      <th>PAY_AMT5</th>\n",
       "      <th>PAY_AMT6</th>\n",
       "      <th>default_payment</th>\n",
       "    </tr>\n",
       "  </thead>\n",
       "  <tbody>\n",
       "    <tr>\n",
       "      <th>0</th>\n",
       "      <td>20000</td>\n",
       "      <td>2</td>\n",
       "      <td>2</td>\n",
       "      <td>1</td>\n",
       "      <td>24</td>\n",
       "      <td>2</td>\n",
       "      <td>2</td>\n",
       "      <td>-1</td>\n",
       "      <td>-1</td>\n",
       "      <td>-2</td>\n",
       "      <td>...</td>\n",
       "      <td>0</td>\n",
       "      <td>0</td>\n",
       "      <td>0</td>\n",
       "      <td>0</td>\n",
       "      <td>689</td>\n",
       "      <td>0</td>\n",
       "      <td>0</td>\n",
       "      <td>0</td>\n",
       "      <td>0</td>\n",
       "      <td>1</td>\n",
       "    </tr>\n",
       "  </tbody>\n",
       "</table>\n",
       "<p>1 rows × 24 columns</p>\n",
       "</div>"
      ],
      "text/plain": [
       "   LIMIT_BAL  SEX  EDUCATION  MARRIAGE  AGE  PAY_0  PAY_2  PAY_3  PAY_4  \\\n",
       "0      20000    2          2         1   24      2      2     -1     -1   \n",
       "\n",
       "   PAY_5  ...  BILL_AMT4  BILL_AMT5  BILL_AMT6  PAY_AMT1  PAY_AMT2  PAY_AMT3  \\\n",
       "0     -2  ...          0          0          0         0       689         0   \n",
       "\n",
       "   PAY_AMT4  PAY_AMT5  PAY_AMT6  default_payment  \n",
       "0         0         0         0                1  \n",
       "\n",
       "[1 rows x 24 columns]"
      ]
     },
     "execution_count": 36,
     "metadata": {},
     "output_type": "execute_result"
    }
   ],
   "source": [
    "data.head(1)"
   ]
  },
  {
   "cell_type": "code",
   "execution_count": 37,
   "id": "ed4f10c4",
   "metadata": {
    "ExecuteTime": {
     "end_time": "2022-02-08T04:00:55.250477Z",
     "start_time": "2022-02-08T04:00:55.220253Z"
    }
   },
   "outputs": [],
   "source": [
    "data = pd.get_dummies(data, prefix=['EDUCATION', 'MARRIAGE'], columns=['EDUCATION', 'MARRIAGE'],drop_first=True).copy()"
   ]
  },
  {
   "cell_type": "code",
   "execution_count": 38,
   "id": "1ff6509c",
   "metadata": {
    "ExecuteTime": {
     "end_time": "2022-02-08T04:00:55.934111Z",
     "start_time": "2022-02-08T04:00:55.926222Z"
    }
   },
   "outputs": [
    {
     "data": {
      "text/plain": [
       "(30000, 31)"
      ]
     },
     "execution_count": 38,
     "metadata": {},
     "output_type": "execute_result"
    }
   ],
   "source": [
    "data.shape"
   ]
  },
  {
   "cell_type": "markdown",
   "id": "a87e9e25",
   "metadata": {},
   "source": [
    "**Split the data in train and validation set**"
   ]
  },
  {
   "cell_type": "code",
   "execution_count": 39,
   "id": "23515f3d",
   "metadata": {
    "ExecuteTime": {
     "end_time": "2022-02-08T04:00:57.050134Z",
     "start_time": "2022-02-08T04:00:57.017124Z"
    }
   },
   "outputs": [],
   "source": [
    "np.random.seed(3)\n",
    "msk = np.random.rand(len(data)) < 0.8\n",
    "train = data[msk].reset_index().drop('index', axis = 1)\n",
    "valid = data[~msk].reset_index().drop('index', axis = 1)"
   ]
  },
  {
   "cell_type": "code",
   "execution_count": 40,
   "id": "dba89d7b",
   "metadata": {
    "ExecuteTime": {
     "end_time": "2022-02-08T04:00:57.463644Z",
     "start_time": "2022-02-08T04:00:57.454579Z"
    }
   },
   "outputs": [
    {
     "data": {
      "text/plain": [
       "(5982, 31)"
      ]
     },
     "execution_count": 40,
     "metadata": {},
     "output_type": "execute_result"
    }
   ],
   "source": [
    "valid.shape"
   ]
  },
  {
   "cell_type": "markdown",
   "id": "98e64fb4",
   "metadata": {},
   "source": [
    "**Normalizing the Dataset**"
   ]
  },
  {
   "cell_type": "code",
   "execution_count": 41,
   "id": "16d5c788",
   "metadata": {
    "ExecuteTime": {
     "end_time": "2022-02-08T04:00:58.672434Z",
     "start_time": "2022-02-08T04:00:58.668983Z"
    }
   },
   "outputs": [],
   "source": [
    "from sklearn.preprocessing import MinMaxScaler\n",
    "scaler = MinMaxScaler()"
   ]
  },
  {
   "cell_type": "code",
   "execution_count": 42,
   "id": "21ddd895",
   "metadata": {
    "ExecuteTime": {
     "end_time": "2022-02-08T04:00:58.996577Z",
     "start_time": "2022-02-08T04:00:58.955090Z"
    }
   },
   "outputs": [],
   "source": [
    "y_train = train.default_payment\n",
    "train = scaler.fit_transform(train.loc[:,train.columns != 'default_payment'])\n",
    "\n",
    "y_valid = valid.default_payment\n",
    "valid = scaler.transform(valid.loc[:,valid.columns != 'default_payment'])"
   ]
  },
  {
   "cell_type": "code",
   "execution_count": 43,
   "id": "38ad0683",
   "metadata": {
    "ExecuteTime": {
     "end_time": "2022-02-08T04:01:00.069002Z",
     "start_time": "2022-02-08T04:01:00.063718Z"
    }
   },
   "outputs": [
    {
     "data": {
      "text/plain": [
       "((24018, 30), (5982, 30))"
      ]
     },
     "execution_count": 43,
     "metadata": {},
     "output_type": "execute_result"
    }
   ],
   "source": [
    "train.shape, valid.shape"
   ]
  },
  {
   "cell_type": "code",
   "execution_count": 44,
   "id": "89c8be8c",
   "metadata": {
    "ExecuteTime": {
     "end_time": "2022-02-08T04:01:01.833780Z",
     "start_time": "2022-02-08T04:01:01.831022Z"
    }
   },
   "outputs": [],
   "source": [
    "# data.loc[:,data.columns != 'default_payment'] = data.loc[:,data.columns != 'default_payment']\\\n",
    "#                         .apply(lambda x: (x-x.mean())/(x.max() - x.min()), axis=0)"
   ]
  },
  {
   "cell_type": "markdown",
   "id": "f88a0b99",
   "metadata": {},
   "source": [
    "**Creating the dataset for Data Loader**"
   ]
  },
  {
   "cell_type": "code",
   "execution_count": 45,
   "id": "61d85f26",
   "metadata": {
    "ExecuteTime": {
     "end_time": "2022-02-08T04:01:02.300462Z",
     "start_time": "2022-02-08T04:01:02.292171Z"
    }
   },
   "outputs": [],
   "source": [
    "class Credit_dataset():\n",
    "    def __init__(self, x,y):\n",
    "        self.x = torch.tensor(x).float()\n",
    "        self.y = torch.tensor(y).float().unsqueeze(1)\n",
    "    \n",
    "    def __len__(self):\n",
    "        return len(self.y)\n",
    "    \n",
    "    def __getitem__(self,idx):\n",
    "        return self.x[idx], self.y[idx]"
   ]
  },
  {
   "cell_type": "code",
   "execution_count": 46,
   "id": "5bf7dc7a",
   "metadata": {
    "ExecuteTime": {
     "end_time": "2022-02-08T04:01:03.800830Z",
     "start_time": "2022-02-08T04:01:03.699034Z"
    }
   },
   "outputs": [],
   "source": [
    "train_ds = Credit_dataset(train,y_train)\n",
    "valid_ds = Credit_dataset(valid,y_valid)"
   ]
  },
  {
   "cell_type": "markdown",
   "id": "4f39d5f3",
   "metadata": {},
   "source": [
    "**Dataloader**"
   ]
  },
  {
   "cell_type": "code",
   "execution_count": 47,
   "id": "7fef1f95",
   "metadata": {
    "ExecuteTime": {
     "end_time": "2022-02-08T04:01:04.910274Z",
     "start_time": "2022-02-08T04:01:04.905568Z"
    }
   },
   "outputs": [],
   "source": [
    "train_dl = DataLoader(train_ds, batch_size = 1000, shuffle = True)\n",
    "valid_dl = DataLoader(valid_ds, batch_size = 1000, shuffle = False)"
   ]
  },
  {
   "cell_type": "markdown",
   "id": "5d843b90",
   "metadata": {},
   "source": [
    "**One layer NN model**"
   ]
  },
  {
   "cell_type": "code",
   "execution_count": 48,
   "id": "4fca9ebc",
   "metadata": {
    "ExecuteTime": {
     "end_time": "2022-02-08T04:01:06.186597Z",
     "start_time": "2022-02-08T04:01:06.182371Z"
    }
   },
   "outputs": [],
   "source": [
    "model = torch.nn.Sequential(\n",
    "    torch.nn.Linear(30,1)\n",
    ")"
   ]
  },
  {
   "cell_type": "markdown",
   "id": "43adcad8",
   "metadata": {},
   "source": [
    "**Loss on the first batch of the data**"
   ]
  },
  {
   "cell_type": "code",
   "execution_count": 49,
   "id": "107d01ac",
   "metadata": {
    "ExecuteTime": {
     "end_time": "2022-02-08T04:01:07.904191Z",
     "start_time": "2022-02-08T04:01:07.879106Z"
    }
   },
   "outputs": [
    {
     "name": "stdout",
     "output_type": "stream",
     "text": [
      "loss for the first batch is 0.6602380275726318\n"
     ]
    }
   ],
   "source": [
    "x ,y = next(iter(train_dl))\n",
    "model.train()\n",
    "y_hat = model(x)\n",
    "loss = F.binary_cross_entropy(torch.sigmoid(y_hat), y)\n",
    "print(f\"loss for the first batch is {loss}\")"
   ]
  },
  {
   "cell_type": "markdown",
   "id": "bd17e817",
   "metadata": {},
   "source": [
    "As we can see the loss is very high for a binary dataset as there is no update in the gradients yet. This is computed based on the randomly initialized model parameters "
   ]
  },
  {
   "cell_type": "code",
   "execution_count": 50,
   "id": "09f50041",
   "metadata": {
    "ExecuteTime": {
     "end_time": "2022-02-08T04:01:09.400971Z",
     "start_time": "2022-02-08T04:01:09.393854Z"
    }
   },
   "outputs": [
    {
     "data": {
      "text/plain": [
       "torch.Size([1000, 1])"
      ]
     },
     "execution_count": 50,
     "metadata": {},
     "output_type": "execute_result"
    }
   ],
   "source": [
    "torch.sigmoid(y_hat).shape"
   ]
  },
  {
   "cell_type": "code",
   "execution_count": 51,
   "id": "dd60eb8a",
   "metadata": {
    "ExecuteTime": {
     "end_time": "2022-02-08T04:01:10.735893Z",
     "start_time": "2022-02-08T04:01:10.730910Z"
    }
   },
   "outputs": [
    {
     "data": {
      "text/plain": [
       "torch.Size([1000, 1])"
      ]
     },
     "execution_count": 51,
     "metadata": {},
     "output_type": "execute_result"
    }
   ],
   "source": [
    "y.shape"
   ]
  },
  {
   "cell_type": "markdown",
   "id": "011f507e",
   "metadata": {},
   "source": [
    "**Writing the training loop for the data**"
   ]
  },
  {
   "cell_type": "code",
   "execution_count": 53,
   "id": "d0af0058",
   "metadata": {
    "ExecuteTime": {
     "end_time": "2022-02-08T04:01:17.301764Z",
     "start_time": "2022-02-08T04:01:17.292352Z"
    }
   },
   "outputs": [],
   "source": [
    "def train_loop(model, train_dl, valid_dl, optimizer,epochs):\n",
    "    \n",
    "    losses = []\n",
    "    for i in range(epochs):\n",
    "        model = model.train()\n",
    "        for x, y in train_dl:\n",
    "            y_hat = model(x)\n",
    "            loss = F.binary_cross_entropy(torch.sigmoid(y_hat), y.float())\n",
    "            optimizer.zero_grad()\n",
    "            loss.backward()\n",
    "            optimizer.step()\n",
    "            losses.append(loss.item())\n",
    "        train_loss = np.mean(losses)\n",
    "        \n",
    "        valid_loss, valid_auc = val_metrics(model, valid_dl)\n",
    "        print(\"train loss %.3f valid loss %.3f auc-roc %.3f\" % (train_loss, valid_loss, valid_auc))"
   ]
  },
  {
   "cell_type": "markdown",
   "id": "50d4dccf",
   "metadata": {},
   "source": [
    "**writing the loop to calculate validation loss after every epoch**"
   ]
  },
  {
   "cell_type": "code",
   "execution_count": 52,
   "id": "b6d93413",
   "metadata": {
    "ExecuteTime": {
     "end_time": "2022-02-08T04:01:14.537925Z",
     "start_time": "2022-02-08T04:01:14.530424Z"
    }
   },
   "outputs": [],
   "source": [
    "def val_metrics(model, valid_dl):\n",
    "    model.eval()\n",
    "    losses = []\n",
    "    y_hats = []\n",
    "    ys = []\n",
    "    for x, y in valid_dl:\n",
    "        y_hat = model(x)\n",
    "        loss = F.binary_cross_entropy(torch.sigmoid(y_hat), y.float())\n",
    "        y_hats.append(y_hat.detach().numpy())\n",
    "        ys.append(y.numpy())\n",
    "        losses.append(loss.item())\n",
    "    ys = np.concatenate(ys)\n",
    "    y_hats = np.concatenate(y_hats)\n",
    "    #print(y_hats.shape,ys.shape )\n",
    "    return np.mean(losses), roc_auc_score(ys, y_hats)"
   ]
  },
  {
   "cell_type": "code",
   "execution_count": 54,
   "id": "61b144ba",
   "metadata": {
    "ExecuteTime": {
     "end_time": "2022-02-08T04:01:37.643319Z",
     "start_time": "2022-02-08T04:01:37.639440Z"
    }
   },
   "outputs": [],
   "source": [
    "learning_rate = 0.01\n",
    "optimizer = torch.optim.Adam(model.parameters(), lr=learning_rate)"
   ]
  },
  {
   "cell_type": "markdown",
   "id": "9c9736de",
   "metadata": {},
   "source": [
    "**9**"
   ]
  },
  {
   "cell_type": "code",
   "execution_count": 55,
   "id": "1be444a9",
   "metadata": {
    "ExecuteTime": {
     "end_time": "2022-02-08T04:01:44.376554Z",
     "start_time": "2022-02-08T04:01:41.445411Z"
    }
   },
   "outputs": [
    {
     "name": "stdout",
     "output_type": "stream",
     "text": [
      "train loss 0.566 valid loss 0.537 auc-roc 0.482\n",
      "train loss 0.550 valid loss 0.524 auc-roc 0.574\n",
      "train loss 0.537 valid loss 0.514 auc-roc 0.625\n",
      "train loss 0.529 valid loss 0.507 auc-roc 0.647\n",
      "train loss 0.522 valid loss 0.502 auc-roc 0.657\n",
      "train loss 0.518 valid loss 0.498 auc-roc 0.666\n",
      "train loss 0.512 valid loss 0.495 auc-roc 0.671\n",
      "train loss 0.509 valid loss 0.493 auc-roc 0.673\n",
      "train loss 0.508 valid loss 0.491 auc-roc 0.676\n",
      "train loss 0.505 valid loss 0.489 auc-roc 0.678\n",
      "train loss 0.502 valid loss 0.488 auc-roc 0.678\n",
      "train loss 0.500 valid loss 0.488 auc-roc 0.679\n",
      "train loss 0.499 valid loss 0.487 auc-roc 0.680\n",
      "train loss 0.497 valid loss 0.486 auc-roc 0.682\n",
      "train loss 0.496 valid loss 0.485 auc-roc 0.683\n",
      "train loss 0.494 valid loss 0.485 auc-roc 0.684\n",
      "train loss 0.493 valid loss 0.484 auc-roc 0.684\n",
      "train loss 0.492 valid loss 0.484 auc-roc 0.686\n",
      "train loss 0.491 valid loss 0.483 auc-roc 0.687\n",
      "train loss 0.489 valid loss 0.483 auc-roc 0.688\n"
     ]
    }
   ],
   "source": [
    "epochs =20\n",
    "train_loop(model, train_dl, valid_dl, optimizer,epochs)"
   ]
  },
  {
   "cell_type": "markdown",
   "id": "55b7b5e8",
   "metadata": {},
   "source": [
    "As we can see, after a few epochs, the loss is not improving a lot"
   ]
  },
  {
   "cell_type": "markdown",
   "id": "e475d17f",
   "metadata": {
    "ExecuteTime": {
     "end_time": "2022-02-06T03:44:16.563629Z",
     "start_time": "2022-02-06T03:44:16.560652Z"
    }
   },
   "source": [
    "# Two Layer NN"
   ]
  },
  {
   "cell_type": "code",
   "execution_count": 56,
   "id": "3155db52",
   "metadata": {
    "ExecuteTime": {
     "end_time": "2022-02-08T04:01:48.125027Z",
     "start_time": "2022-02-08T04:01:48.119785Z"
    }
   },
   "outputs": [],
   "source": [
    "train_dl = DataLoader(train_ds, batch_size = 1000, shuffle = True)\n",
    "valid_dl = DataLoader(valid_ds, batch_size = 1000, shuffle = False)"
   ]
  },
  {
   "cell_type": "code",
   "execution_count": 57,
   "id": "4918ee3f",
   "metadata": {
    "ExecuteTime": {
     "end_time": "2022-02-08T04:01:48.830146Z",
     "start_time": "2022-02-08T04:01:48.824341Z"
    }
   },
   "outputs": [],
   "source": [
    "model = torch.nn.Sequential(\n",
    "    nn.Linear(30,5),\n",
    "    nn.ReLU(),\n",
    "    nn.Linear(5,1)\n",
    ")\n",
    "\n",
    "optimizer = torch.optim.Adam(model.parameters(), lr=learning_rate)"
   ]
  },
  {
   "cell_type": "code",
   "execution_count": 58,
   "id": "5d6257f2",
   "metadata": {
    "ExecuteTime": {
     "end_time": "2022-02-08T04:01:53.527797Z",
     "start_time": "2022-02-08T04:01:50.516741Z"
    }
   },
   "outputs": [
    {
     "name": "stdout",
     "output_type": "stream",
     "text": [
      "train loss 0.618 valid loss 0.545 auc-roc 0.464\n",
      "train loss 0.576 valid loss 0.523 auc-roc 0.598\n",
      "train loss 0.558 valid loss 0.510 auc-roc 0.651\n",
      "train loss 0.545 valid loss 0.499 auc-roc 0.667\n",
      "train loss 0.534 valid loss 0.492 auc-roc 0.676\n",
      "train loss 0.524 valid loss 0.488 auc-roc 0.680\n",
      "train loss 0.517 valid loss 0.486 auc-roc 0.683\n",
      "train loss 0.511 valid loss 0.485 auc-roc 0.685\n",
      "train loss 0.507 valid loss 0.484 auc-roc 0.689\n",
      "train loss 0.503 valid loss 0.481 auc-roc 0.693\n",
      "train loss 0.501 valid loss 0.482 auc-roc 0.692\n",
      "train loss 0.499 valid loss 0.480 auc-roc 0.697\n",
      "train loss 0.496 valid loss 0.478 auc-roc 0.698\n",
      "train loss 0.493 valid loss 0.480 auc-roc 0.700\n",
      "train loss 0.491 valid loss 0.479 auc-roc 0.702\n",
      "train loss 0.490 valid loss 0.476 auc-roc 0.701\n",
      "train loss 0.488 valid loss 0.476 auc-roc 0.703\n",
      "train loss 0.486 valid loss 0.476 auc-roc 0.703\n",
      "train loss 0.485 valid loss 0.475 auc-roc 0.704\n",
      "train loss 0.484 valid loss 0.475 auc-roc 0.704\n"
     ]
    }
   ],
   "source": [
    "epochs = 20\n",
    "learning_rate = 0.01\n",
    "train_loop(model, train_dl, valid_dl, optimizer,epochs)"
   ]
  },
  {
   "cell_type": "markdown",
   "id": "9e7bf6c7",
   "metadata": {},
   "source": [
    "**As we introduce a new layer, the auc-roc of the model increased a bit**"
   ]
  },
  {
   "cell_type": "markdown",
   "id": "371f3a61",
   "metadata": {
    "ExecuteTime": {
     "end_time": "2022-03-16T22:55:00.259399Z",
     "start_time": "2022-03-16T22:55:00.253420Z"
    }
   },
   "source": [
    "This can be further improved if add more parameters to the NN model by increasing the depth or the number of nodes"
   ]
  }
 ],
 "metadata": {
  "kernelspec": {
   "display_name": "Python 3 (ipykernel)",
   "language": "python",
   "name": "python3"
  },
  "language_info": {
   "codemirror_mode": {
    "name": "ipython",
    "version": 3
   },
   "file_extension": ".py",
   "mimetype": "text/x-python",
   "name": "python",
   "nbconvert_exporter": "python",
   "pygments_lexer": "ipython3",
   "version": "3.8.2"
  }
 },
 "nbformat": 4,
 "nbformat_minor": 5
}
